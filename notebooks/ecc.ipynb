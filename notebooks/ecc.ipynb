{
 "cells": [
  {
   "cell_type": "markdown",
   "metadata": {},
   "source": [
    "**The basics of elliptic curve cryptography**\n",
    "\n",
    "This is an excercise of doing [modular arithmetic](https://en.wikipedia.org/wiki/Modular_arithmetic) in Haskell. It was inspired by some examples written in Python from a [video](https://www.youtube.com/watch?v=l6jTFxQaUJA) about the basics of [elliptic curve cryptography](https://en.wikipedia.org/wiki/Elliptic_curve_cryptography). Code samples from the slides can be found [here](http://ecchacks.cr.yp.to). The Haskell implementation is quite raw and needs improvement which will come as I gradually get to grips with monads and applicatives.\n",
    "\n",
    "***Modular arithmetic***\n",
    "\n",
    "We are going to have to set some compiler options in order to implement a familiar looking printed version of the congruence class type. The first one allows us to specify type constructor with arguments in the definition of the instance of `Show`. The second one will tell compiler not to complain if we shadow the existing more general definition of `Show` for `Maybe` with our more specific implementation."
   ]
  },
  {
   "cell_type": "code",
   "execution_count": 1,
   "metadata": {
    "collapsed": true
   },
   "outputs": [],
   "source": [
    "{-# LANGUAGE FlexibleInstances, OverlappingInstances #-}"
   ]
  },
  {
   "cell_type": "markdown",
   "metadata": {},
   "source": [
    "In the examples from the linked video presenters considered fixed values of the modulus $n$ in each part of the discussion. This is natural since it must be standardized for the purposes of creating keys. We are going to account for a more general situation to make code more generic and reusable and must, therefore, safeguard ourselves from undefined operations between congruence classes corresponding to different values of $n$."
   ]
  },
  {
   "cell_type": "code",
   "execution_count": 2,
   "metadata": {
    "collapsed": false
   },
   "outputs": [],
   "source": [
    "import Control.Monad\n",
    "import Control.Applicative"
   ]
  },
  {
   "cell_type": "markdown",
   "metadata": {},
   "source": [
    "Now we declare our type for congruence classes. We keep the name short for the purposes of this example as we will have to type it often. The first argument will be the divisor and the second will be the integer to which the modulo operation is applied. In other words `M x y` means $y \\operatorname{mod} x$. Essentially we are goint to implement a generalised version of the `F7` class from the [lecture](http://ecchacks.cr.yp.to/finitefield.html):\n",
    "``` python\n",
    "class F7():\n",
    "    def __init__(self,x):\n",
    "        self.int = x % 7\n",
    "    def __str__(self):\n",
    "        return str(self.int)\n",
    "    def __repr__(self):\n",
    "        return self.__str__()\n",
    "    def __eq__(self, other):\n",
    "        return self.int == other.int\n",
    "    def __add__(self, other):\n",
    "        return F(self.int + other.int)\n",
    "    def __sub__(self, other):\n",
    "        return F(self.int - other.int)\n",
    "    def __mul__(self, other):\n",
    "        return F(self.int + other.int)\n",
    "```\n",
    "First we define how the values will be printed"
   ]
  },
  {
   "cell_type": "code",
   "execution_count": 3,
   "metadata": {
    "collapsed": false
   },
   "outputs": [],
   "source": [
    "data M = M Int Int\n",
    "instance Show M where show (M a b) = show b ++ \" mod \" ++ show a\n",
    "instance Show (Maybe M) where show (Just a) = show a\n",
    "                              show _ = \"undefined\""
   ]
  },
  {
   "cell_type": "markdown",
   "metadata": {},
   "source": [
    "We will also need to compare values to perform some verification of our implementations"
   ]
  },
  {
   "cell_type": "code",
   "execution_count": 4,
   "metadata": {
    "collapsed": true
   },
   "outputs": [],
   "source": [
    "instance Eq M where (==) (M a b) (M c d) = b `mod` a == d `mod` a"
   ]
  },
  {
   "cell_type": "markdown",
   "metadata": {},
   "source": [
    "In order to implement the equivalent of `F7` class from the lecture (which is instantiated as concgurence class $x \\operatorname{mod} 7$) we would need to partially apply our type constructor with a literal value. It turns out, however, that it is not possible to do so without resorting to very involved workarounds. Compiler will suggest to `use -XDataKinds to enable`, however, we choose not to follow that route and define a type conversion function instead."
   ]
  },
  {
   "cell_type": "code",
   "execution_count": 5,
   "metadata": {
    "collapsed": false
   },
   "outputs": [],
   "source": [
    "fromInt :: Int -> Int -> M\n",
    "fromInt = M"
   ]
  },
  {
   "cell_type": "markdown",
   "metadata": {},
   "source": [
    "Now we proceed to implement the safe operations on congruence classes that will only return valid results if the divisor values match. `+`, `-` and `*` are easy to do"
   ]
  },
  {
   "cell_type": "code",
   "execution_count": 6,
   "metadata": {
    "collapsed": false
   },
   "outputs": [],
   "source": [
    "type BinaryOp = Int -> Int -> Int\n",
    "safeOp :: BinaryOp -> M -> M -> Maybe M\n",
    "safeOp op (M a b) (M c d)\n",
    "    | a == c    = Just (M a ((b `op` d) `mod` a))\n",
    "    | otherwise = Nothing"
   ]
  },
  {
   "cell_type": "code",
   "execution_count": 7,
   "metadata": {
    "collapsed": false
   },
   "outputs": [],
   "source": [
    "(#+) = safeOp (+)\n",
    "(#-) = safeOp (-)\n",
    "(#*) = safeOp (*)"
   ]
  },
  {
   "cell_type": "markdown",
   "metadata": {},
   "source": [
    "Division is trickier because the result does not always exist even when numerator and denominator are members of the same field. We will have to use an implementation of the [Extended Euclidean algorithm](https://en.wikipedia.org/wiki/Extended_Euclidean_algorithm) to establish whether [modular inverses](https://en.wikipedia.org/wiki/Modular_multiplicative_inverse) exist and calculate them them if they do"
   ]
  },
  {
   "cell_type": "code",
   "execution_count": 8,
   "metadata": {
    "collapsed": false
   },
   "outputs": [],
   "source": [
    "extendedEuclid a b = extendedEuclid' 1 0 0 1 b a\n",
    "extendedEuclid' _ oldT _ oldS 0 oldR = (oldR, oldT, oldS)\n",
    "extendedEuclid' t oldT s oldS r oldR = extendedEuclid' t' oldT' s' oldS' r' oldR'\n",
    "  where t' = (oldT - quotient * t)\n",
    "        oldT' = t\n",
    "        s' = (oldS - quotient * s)\n",
    "        oldS' = s\n",
    "        r' = (oldR - quotient * r)\n",
    "        oldR' = r \n",
    "        quotient = oldR `div` r"
   ]
  },
  {
   "cell_type": "code",
   "execution_count": 9,
   "metadata": {
    "collapsed": false
   },
   "outputs": [],
   "source": [
    "(#/) (M a b) (M c d)\n",
    "    | a /= c = Nothing\n",
    "    | otherwise = case r of\n",
    "                    1 -> Just (M a (e * b `mod` a))\n",
    "                    _ -> Nothing\n",
    "                where (r, _, e) = extendedEuclid d a"
   ]
  },
  {
   "cell_type": "markdown",
   "metadata": {},
   "source": [
    "Check that the results make sense"
   ]
  },
  {
   "cell_type": "code",
   "execution_count": 10,
   "metadata": {
    "collapsed": false
   },
   "outputs": [
    {
     "data": {
      "text/plain": [
       "2 mod 6"
      ]
     },
     "metadata": {},
     "output_type": "display_data"
    },
    {
     "data": {
      "text/plain": [
       "True"
      ]
     },
     "metadata": {},
     "output_type": "display_data"
    }
   ],
   "source": [
    "x = M 6 5\n",
    "y = M 6 4\n",
    "z = M 6 2\n",
    "y #/ x\n",
    "x #* z == Just y"
   ]
  },
  {
   "cell_type": "markdown",
   "metadata": {},
   "source": [
    "We will also need to perform arithmetic on the results of the \"safe\" operations defined above, i.e. monadic values. This is the part that could probably be improved a lot which in turn would lead to simplification of some of the subsequent code. However, for now we will still be able to demonstrate the result we are after in this document."
   ]
  },
  {
   "cell_type": "code",
   "execution_count": 11,
   "metadata": {
    "collapsed": false
   },
   "outputs": [],
   "source": [
    "instance Num (Maybe M) where \n",
    "(+) = liftM2 (#+)\n",
    "(-) = liftM2 (#-)\n",
    "(*) = liftM2 (#*)\n",
    "(/) = liftM2 (#/)"
   ]
  },
  {
   "cell_type": "markdown",
   "metadata": {},
   "source": [
    "Now we can define $\\mathbb{Z}/7\\mathbb{Z}$ (equivalent to `F7` class from the presentation) and $\\mathbb{Z}/5\\mathbb{Z}$ as follows"
   ]
  },
  {
   "cell_type": "code",
   "execution_count": 12,
   "metadata": {
    "collapsed": false
   },
   "outputs": [],
   "source": [
    "f7 = fromInt 7\n",
    "f5 = fromInt 5"
   ]
  },
  {
   "cell_type": "markdown",
   "metadata": {},
   "source": [
    "instantiate some congruence classes"
   ]
  },
  {
   "cell_type": "code",
   "execution_count": 13,
   "metadata": {
    "collapsed": false
   },
   "outputs": [],
   "source": [
    "a = f7 1\n",
    "b = f7 6\n",
    "c = f7 19\n",
    "d = f5 41\n",
    "e = f5 38"
   ]
  },
  {
   "cell_type": "markdown",
   "metadata": {},
   "source": [
    "and demonstrate our arithmetic and presentation at work"
   ]
  },
  {
   "cell_type": "code",
   "execution_count": 14,
   "metadata": {
    "collapsed": false
   },
   "outputs": [
    {
     "data": {
      "text/plain": [
       "\"1 mod 7 + 19 mod 7 = 6 mod 7\""
      ]
     },
     "metadata": {},
     "output_type": "display_data"
    },
    {
     "data": {
      "text/plain": [
       "\"6 mod 7 * 19 mod 7 = 2 mod 7\""
      ]
     },
     "metadata": {},
     "output_type": "display_data"
    },
    {
     "data": {
      "text/plain": [
       "\"41 mod 5 - 38 mod 5 = 3 mod 5\""
      ]
     },
     "metadata": {},
     "output_type": "display_data"
    },
    {
     "data": {
      "text/plain": [
       "\"1 mod 7 + 38 mod 5 = undefined\""
      ]
     },
     "metadata": {},
     "output_type": "display_data"
    }
   ],
   "source": [
    "show a ++ \" + \" ++ show c ++ \" = \" ++ show (a #+ c)\n",
    "show b ++ \" * \" ++ show c ++ \" = \" ++ show (b #* c)\n",
    "show d ++ \" - \" ++ show e ++ \" = \" ++ show (d #- e)\n",
    "show a ++ \" + \" ++ show e ++ \" = \" ++ show (a #+ e)"
   ]
  },
  {
   "cell_type": "markdown",
   "metadata": {},
   "source": [
    "***Curve point arithmetic***\n",
    "\n",
    "Now we can implement addition of ponts on the [\"circle clock\"](http://ecchacks.cr.yp.to/clockadd.html) $\\mathbb{Z}/n\\mathbb{Z}\\times \\mathbb{Z}/n\\mathbb{Z}$ and on the [Edwards elliptic curve](http://ecchacks.cr.yp.to/edwardsadd.html) equivalent to the following Python implementation:\n",
    "``` python\n",
    "def clockadd(P1,P2):\n",
    "    x1,y1 = P1\n",
    "    x2,y2 = P2\n",
    "    x3 = x1*y2+y1x2\n",
    "    y3 = y1*y1-x1*x2\n",
    "    return x3,y3\n",
    "    \n",
    "\n",
    "def edwardsadd(P1,P2):\n",
    "    x1,y1 = P1\n",
    "    x2,y2 = P2\n",
    "    x3 = (x1*y2+y1*x2)/(one+d*x1*y1*x2*y2)\n",
    "    y3 = (y1*y2-x1*x2)/(one-d*x1*y1*x2*y2)\n",
    "return x3,y3\n",
    "```"
   ]
  },
  {
   "cell_type": "code",
   "execution_count": 15,
   "metadata": {
    "collapsed": false
   },
   "outputs": [],
   "source": [
    "type Point = (M, M)\n",
    "type Rotation = Point -> Point -> Maybe Point\n",
    "\n",
    "-- Rotation on a circle\n",
    "clockAdd :: Rotation\n",
    "clockAdd (x1, y1) (x2, y2) = case (a,b) of \n",
    "    (Just x, Just y) -> Just (x, y)\n",
    "    otherwise        -> Nothing\n",
    "  where (a,b) = (join $ (x1 #* y2) + (y1 #* x2), join $ (y1 #* y2) - (x1 #* x2))\n",
    "\n",
    "-- Rotation on an Edwards curve\n",
    "edwardsAdd :: M -> Rotation\n",
    "edwardsAdd d (x1, y1) (x2, y2) = case (a, b) of \n",
    "    (Just x, Just y) -> Just (x, y)\n",
    "    otherwise        -> Nothing\n",
    "  where (a,b) = (join $ (join $ (x1 #* y2) + (y1 #* x2)) / denP, join $ (join $ (y1 #* y2) - (x1 #* x2)) / denM)\n",
    "        denP   = join $ Just (M e 1) + (join $ (Just d) * (join $ (x1 #* x2) * (y1 #* y2)))\n",
    "        denM   = join $ Just (M e 1) - (join $ (Just d) * (join $ (x1 #* x2) * (y1 #* y2)))\n",
    "        M e _ = x1"
   ]
  },
  {
   "cell_type": "markdown",
   "metadata": {},
   "source": [
    "We can now test our implementation on the same values as those used in the [lecture](http://ecchacks.cr.yp.to/edwardsadd.html):"
   ]
  },
  {
   "cell_type": "code",
   "execution_count": 16,
   "metadata": {
    "collapsed": false
   },
   "outputs": [
    {
     "data": {
      "text/plain": [
       "Just (944 mod 1009,175 mod 1009)"
      ]
     },
     "metadata": {},
     "output_type": "display_data"
    }
   ],
   "source": [
    "f1009 = fromInt 1009\n",
    "d = f1009 (-11)\n",
    "p1 = (f1009 7 ,f1009 415)\n",
    "p2 = (f1009 23 ,f1009 487)\n",
    "edwardsAdd d p2 p1"
   ]
  },
  {
   "cell_type": "markdown",
   "metadata": {},
   "source": [
    "We also check that the addition of points on the clock has the desired arithmetic properties. Fix the modulo and the starting point:"
   ]
  },
  {
   "cell_type": "code",
   "execution_count": 17,
   "metadata": {
    "collapsed": false
   },
   "outputs": [],
   "source": [
    "n = 1000003\n",
    "fp = fromInt n\n",
    "p = (fp 1000, fp 2)"
   ]
  },
  {
   "cell_type": "markdown",
   "metadata": {},
   "source": [
    "Perform some repeated additions:"
   ]
  },
  {
   "cell_type": "code",
   "execution_count": 18,
   "metadata": {
    "collapsed": false
   },
   "outputs": [
    {
     "data": {
      "text/plain": [
       "Just (4000 mod 1000003,7 mod 1000003)"
      ]
     },
     "metadata": {},
     "output_type": "display_data"
    }
   ],
   "source": [
    "p2 = clockAdd p p\n",
    "p2"
   ]
  },
  {
   "cell_type": "code",
   "execution_count": 19,
   "metadata": {
    "collapsed": false
   },
   "outputs": [
    {
     "data": {
      "text/plain": [
       "Just (15000 mod 1000003,26 mod 1000003)"
      ]
     },
     "metadata": {},
     "output_type": "display_data"
    }
   ],
   "source": [
    "p3 = p2 >>= clockAdd p\n",
    "p3"
   ]
  },
  {
   "cell_type": "code",
   "execution_count": 20,
   "metadata": {
    "collapsed": false
   },
   "outputs": [
    {
     "data": {
      "text/plain": [
       "Just (780000 mod 1000003,1351 mod 1000003)"
      ]
     },
     "metadata": {},
     "output_type": "display_data"
    }
   ],
   "source": [
    "p4 = p3 >>= clockAdd p\n",
    "p5 = p4 >>= clockAdd p\n",
    "p6 = p5 >>= clockAdd p\n",
    "p6"
   ]
  },
  {
   "cell_type": "markdown",
   "metadata": {},
   "source": [
    "Check that we get to the same point folloing different paths:"
   ]
  },
  {
   "cell_type": "code",
   "execution_count": 21,
   "metadata": {
    "collapsed": false
   },
   "outputs": [
    {
     "data": {
      "text/plain": [
       "True"
      ]
     },
     "metadata": {},
     "output_type": "display_data"
    }
   ],
   "source": [
    "join (clockAdd <$> p3 <*> p3) == p6"
   ]
  },
  {
   "cell_type": "code",
   "execution_count": 22,
   "metadata": {
    "collapsed": false
   },
   "outputs": [
    {
     "data": {
      "text/plain": [
       "True"
      ]
     },
     "metadata": {},
     "output_type": "display_data"
    }
   ],
   "source": [
    "join (clockAdd <$> p2 <*> p4) == p6"
   ]
  },
  {
   "cell_type": "markdown",
   "metadata": {},
   "source": [
    "Finally we will implement the [`scalarmult`](http://ecchacks.cr.yp.to/clockcrypto.html) function that takes a point `p`, an integer `n` and performs rotation of `p` by adding `n` copies of it. The function is equivalent to the following Python implementation, except that we make the addition function a parameter, so that we could easily swap it for an alternative (`clockAdd` or `edwardsAdd` in our case).\n",
    "``` python\n",
    "def scalarmult(n,P):\n",
    "    if n == 0: return (Fp(0),Fp(1))\n",
    "    if n == 1: return P\n",
    "    Q = scalarmult(n // 2,P)\n",
    "    Q = clockadd(Q,Q)\n",
    "    if n % 2: Q = clockadd(P,Q)\n",
    "    return Q\n",
    "```"
   ]
  },
  {
   "cell_type": "code",
   "execution_count": 23,
   "metadata": {
    "collapsed": false
   },
   "outputs": [],
   "source": [
    "type Steps = Int\n",
    "scalarMult :: Rotation -> Steps -> Point -> Maybe Point\n",
    "scalarMult _ 0 (M a n, M b _)\n",
    "    | a == b    = Just (M n 0, M n 1)\n",
    "    | otherwise = Nothing   \n",
    "scalarMult _ 1 p = Just p\n",
    "scalarMult addFn n p = case (odd n) of\n",
    "    True      -> addFn p q\n",
    "    _         -> Just q\n",
    "  where Just q = addFn r r\n",
    "        Just r = scalarMult addFn (n `div` 2) p"
   ]
  },
  {
   "cell_type": "markdown",
   "metadata": {},
   "source": [
    "Again check that multiplying the given point by a scalar gives results consistent with consecutive addition:"
   ]
  },
  {
   "cell_type": "code",
   "execution_count": 24,
   "metadata": {
    "collapsed": false
   },
   "outputs": [
    {
     "data": {
      "text/plain": [
       "Just (780000 mod 1000003,1351 mod 1000003)"
      ]
     },
     "metadata": {},
     "output_type": "display_data"
    }
   ],
   "source": [
    "scalarMult clockAdd 6 p"
   ]
  },
  {
   "cell_type": "code",
   "execution_count": 25,
   "metadata": {
    "collapsed": false
   },
   "outputs": [],
   "source": [
    "circleMult = scalarMult clockAdd"
   ]
  },
  {
   "cell_type": "code",
   "execution_count": 26,
   "metadata": {
    "collapsed": false
   },
   "outputs": [
    {
     "data": {
      "text/plain": [
       "True"
      ]
     },
     "metadata": {},
     "output_type": "display_data"
    },
    {
     "data": {
      "text/plain": [
       "True"
      ]
     },
     "metadata": {},
     "output_type": "display_data"
    }
   ],
   "source": [
    "(p2 >>= circleMult 3) == p6\n",
    "(p2 >>= circleMult 3) == (p3 >>= circleMult 2)"
   ]
  },
  {
   "cell_type": "markdown",
   "metadata": {},
   "source": [
    "***Diffie-Hellmann protocol***\n",
    "\n",
    "Now we are ready to demonstrate the steps of the Diffie-Hellmann protocol that provides a secure method of deriving a shared secret key.\n",
    "\n",
    "Bob and Alice standardize the prime number `n` and the starting point `p`. Alice chooses her secret and computes her public key."
   ]
  },
  {
   "cell_type": "code",
   "execution_count": 27,
   "metadata": {
    "collapsed": false
   },
   "outputs": [
    {
     "data": {
      "text/plain": [
       "Just (662233 mod 1000003,576366 mod 1000003)"
      ]
     },
     "metadata": {},
     "output_type": "display_data"
    }
   ],
   "source": [
    "aliceSecret = 397\n",
    "alicePub = circleMult aliceSecret p\n",
    "alicePub"
   ]
  },
  {
   "cell_type": "markdown",
   "metadata": {},
   "source": [
    "Bob chooses his secret and computes his public key."
   ]
  },
  {
   "cell_type": "code",
   "execution_count": 28,
   "metadata": {
    "collapsed": false
   },
   "outputs": [
    {
     "data": {
      "text/plain": [
       "Just (903916 mod 1000003,250061 mod 1000003)"
      ]
     },
     "metadata": {},
     "output_type": "display_data"
    }
   ],
   "source": [
    "bobSecret = 479\n",
    "bobPub = circleMult bobSecret p\n",
    "bobPub"
   ]
  },
  {
   "cell_type": "markdown",
   "metadata": {},
   "source": [
    "Alice receives Bob's public key and computes the shared secret"
   ]
  },
  {
   "cell_type": "code",
   "execution_count": 29,
   "metadata": {
    "collapsed": false
   },
   "outputs": [],
   "source": [
    "aliceShared = bobPub >>= circleMult aliceSecret"
   ]
  },
  {
   "cell_type": "markdown",
   "metadata": {},
   "source": [
    "Bob receives Alice's public key and computes the shared secret"
   ]
  },
  {
   "cell_type": "code",
   "execution_count": 30,
   "metadata": {
    "collapsed": false
   },
   "outputs": [],
   "source": [
    "bobShared = alicePub >>= circleMult bobSecret"
   ]
  },
  {
   "cell_type": "markdown",
   "metadata": {},
   "source": [
    "The rules of point arithmetic on the circle guarantee that both sides arrive at the same shared key:"
   ]
  },
  {
   "cell_type": "code",
   "execution_count": 31,
   "metadata": {
    "collapsed": false
   },
   "outputs": [
    {
     "data": {
      "text/plain": [
       "True"
      ]
     },
     "metadata": {},
     "output_type": "display_data"
    }
   ],
   "source": [
    "aliceShared == bobShared"
   ]
  },
  {
   "cell_type": "markdown",
   "metadata": {},
   "source": [
    "And just in case you are wondering:"
   ]
  },
  {
   "cell_type": "code",
   "execution_count": 32,
   "metadata": {
    "collapsed": false
   },
   "outputs": [
    {
     "data": {
      "text/plain": [
       "Just (46646 mod 1000003,334110 mod 1000003)"
      ]
     },
     "metadata": {},
     "output_type": "display_data"
    }
   ],
   "source": [
    "aliceShared"
   ]
  }
 ],
 "metadata": {
  "kernelspec": {
   "display_name": "Haskell",
   "language": "haskell",
   "name": "haskell"
  },
  "language_info": {
   "codemirror_mode": "ihaskell",
   "file_extension": ".hs",
   "name": "haskell",
   "version": "7.8.3"
  }
 },
 "nbformat": 4,
 "nbformat_minor": 0
}
