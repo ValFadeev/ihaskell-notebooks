{
 "cells": [
  {
   "cell_type": "markdown",
   "metadata": {},
   "source": [
    "**How asymmetric key cipher works**\n",
    "\n",
    "This example closely follows the discussion in section 5.5.2 of the book \"Discrete analysis\" by Romanovsky, I.V. (Spb: Nevsky Dialect; BHV Peterburg (2003), in Russian, [ISBN: 5-7940-0114-3](http://www.amazon.com/s/ref=nb_sb_noss/178-1696028-4233329?url=search-alias%3Dstripbooks&field-keywords=ISBN%3A+5-7940-0114-3&rh=n%3A283155%2Ck%3AISBN%3A+5-7940-0114-3)). The purpose of this exercise is to demonstrate the mathematical foundations of encryption algorithms that use pairs of asymmetric keys. One key of the pair, the private key, is used by the sender to encrypt a message. The other matching key, the public key, is used by the receiver to restore the plain text. In real world applications the sizes of the keys are chosen so that computational cost of figuring out the private key from the knowledge of the corresponding private key becomes prohibitive.\n",
    "\n",
    "In order to create a cipher we need to take a large number $n$ such that\n",
    "$$n = p\\cdot q$$\n",
    "where $p$ and $q$ are primes. The bigger `n` we choose the stronger the encryption. For encryption we will need to derive integer $e$ and for decryption we will need a corresponding integer $d$. Although $d$ is uniquely determined for any given $e$, in order to calculate it one needs to factorize $n$ into the product of $p$ and $q$. If $n$ is large enough this task becomes very difficult. The numbers that we use for illustration purposes are going to be tiny compared to those used in real key pairs.\n",
    "\n",
    "Thus let $n=p\\cdot q$ and let\n",
    "$$\\phi = p\\cdot q - p - q + 1$$"
   ]
  },
  {
   "cell_type": "code",
   "execution_count": 5,
   "metadata": {
    "collapsed": true
   },
   "outputs": [],
   "source": [
    "import Data.List (sort)\n",
    "import Data.Char (chr, ord)"
   ]
  },
  {
   "cell_type": "code",
   "execution_count": 6,
   "metadata": {
    "collapsed": false
   },
   "outputs": [
    {
     "data": {
      "text/plain": [
       "1093709"
      ]
     },
     "metadata": {},
     "output_type": "display_data"
    }
   ],
   "source": [
    "p = 997\n",
    "q = 1097\n",
    "n = p * q\n",
    "n"
   ]
  },
  {
   "cell_type": "code",
   "execution_count": 7,
   "metadata": {
    "collapsed": false
   },
   "outputs": [
    {
     "data": {
      "text/plain": [
       "1091616"
      ]
     },
     "metadata": {},
     "output_type": "display_data"
    }
   ],
   "source": [
    "f a b = a * b - a - b + 1\n",
    "ϕ = f p q\n",
    "ϕ"
   ]
  },
  {
   "cell_type": "markdown",
   "metadata": {},
   "source": [
    "**Lemma 1**\n",
    "Let $a$ and $n$ be mutually prime. Then\n",
    "$$a^{\\phi} = 1 \\operatorname{mod} n$$\n",
    "\n",
    "*Proof*. Let $\\Phi(n)$ be the set of all integers, not greater than $n$ and mutually prime with $n$:\n",
    "\n",
    "$$\\Phi(n)=\\left\\{k \\in \\mathbb{N}\\left| \\; k \\in (1:n),\\, (k,n) = 1 \\right. \\right\\}$$"
   ]
  },
  {
   "cell_type": "code",
   "execution_count": 8,
   "metadata": {
    "collapsed": false
   },
   "outputs": [],
   "source": [
    "qphi x = [k | k <- [1..x], gcd k x == 1]"
   ]
  },
  {
   "cell_type": "markdown",
   "metadata": {},
   "source": [
    "Note that $\\left|\\Phi(n)\\right|=\\phi$"
   ]
  },
  {
   "cell_type": "code",
   "execution_count": 9,
   "metadata": {
    "collapsed": false
   },
   "outputs": [
    {
     "data": {
      "text/plain": [
       "True"
      ]
     },
     "metadata": {},
     "output_type": "display_data"
    }
   ],
   "source": [
    "length (qphi n) == ϕ"
   ]
  },
  {
   "cell_type": "markdown",
   "metadata": {},
   "source": [
    "Now multiplication of members of $\\Phi(n)$ by $a$ maps $\\Phi(n)$ to itself bijectively. To see this take $b,c\\in\\Phi(n)$ and notice that if $b\\cdot a = c\\cdot a$ then $a$ must be divisible by $n$. Thus\n",
    "\n",
    "$$\\prod_{b\\in\\Phi(n)} b \\operatorname{mod} n = \\prod_{b\\in\\Phi(n)} (b\\cdot a)\\operatorname{mod} n = a^{\\phi}\\prod_{b\\in\\Phi(n)} b \\operatorname{mod} n$$\n",
    "\n",
    "from which the result follows. $\\square$"
   ]
  },
  {
   "cell_type": "markdown",
   "metadata": {},
   "source": [
    "Consider a numerical example for some small $n$, say $35$"
   ]
  },
  {
   "cell_type": "code",
   "execution_count": 10,
   "metadata": {
    "collapsed": false
   },
   "outputs": [
    {
     "data": {
      "text/plain": [
       "[1,2,3,4,6,8,9,11,12,13,16,17,18,19,22,23,24,26,27,29,31,32,33,34]"
      ]
     },
     "metadata": {},
     "output_type": "display_data"
    }
   ],
   "source": [
    "s = qphi 35\n",
    "s"
   ]
  },
  {
   "cell_type": "markdown",
   "metadata": {},
   "source": [
    "Let us verify that the statement of the lemma holds for the example where $n=35$. Take $a=11 \\in \\Phi(n)$. First we see that multiplication by $a \\operatorname{mod} n$ is a bijection"
   ]
  },
  {
   "cell_type": "code",
   "execution_count": 11,
   "metadata": {
    "collapsed": false
   },
   "outputs": [
    {
     "data": {
      "text/plain": [
       "[11,22,33,9,31,18,29,16,27,3,1,12,23,34,32,8,19,6,17,4,26,2,13,24]"
      ]
     },
     "metadata": {},
     "output_type": "display_data"
    },
    {
     "data": {
      "text/plain": [
       "True"
      ]
     },
     "metadata": {},
     "output_type": "display_data"
    }
   ],
   "source": [
    "s' = map (\\x -> x * 11 `mod` 35) s\n",
    "s'\n",
    "s == sort s'"
   ]
  },
  {
   "cell_type": "markdown",
   "metadata": {},
   "source": [
    "Now we check that the statement lemma holds for this example"
   ]
  },
  {
   "cell_type": "code",
   "execution_count": 12,
   "metadata": {
    "collapsed": false
   },
   "outputs": [
    {
     "data": {
      "text/plain": [
       "True"
      ]
     },
     "metadata": {},
     "output_type": "display_data"
    }
   ],
   "source": [
    "ψ = f 5 7\n",
    "all (==1) [x ^ ψ `mod` 35 | x <- qphi 35]"
   ]
  },
  {
   "cell_type": "markdown",
   "metadata": {},
   "source": [
    "**Lemma 2**. For each $e$ relatively prime with $\\phi$ there exists a unique $d\\in (1:\\phi)$ such that $e\\cdot d = 1 \\operatorname{mod} \\phi$\n",
    "\n",
    "*Proof*. Using the [Euclidean algorithm](https://en.wikipedia.org/wiki/Euclidean_algorithm) to find the highest common factor of $e$ and $\\phi$, which in this case equals $1$, it is possible to compute integer coefficients $d$ and $k$ such that\n",
    "\n",
    "$$d \\cdot e + k \\cdot \\phi = 1$$\n",
    "\n",
    "This equation is also known as the [Bézout's identity](https://en.wikipedia.org/wiki/B%C3%A9zout%27s_identity) and is true for any mutually prime $e$ and $\\phi$.\n",
    "\n",
    "If there exists another number $d'$ satisfying the conditions of the lemma then $d - d'$ must be divisible by $\\phi$ which together with the requirement that $d\\in (1:\\phi)$ implies $d=d'$. $\\square$\n",
    "***\n",
    "For the actual calculation of $d$ based on a given $e$ we will use an implementation of the [Extended Euclidean algorithm](https://en.wikipedia.org/wiki/Extended_Euclidean_algorithm) that simultaneously returns the highest common factor and the Bézout's coefficitents"
   ]
  },
  {
   "cell_type": "code",
   "execution_count": 13,
   "metadata": {
    "collapsed": false
   },
   "outputs": [],
   "source": [
    "euclidean :: Integer -> Integer -> (Integer, Integer)\n",
    "euclidean a b\n",
    "  | b == 0 = (1, 0)\n",
    "  | otherwise = (t, s - q * t)\n",
    "      where (q, r) = quotRem a b\n",
    "            (s, t) = euclidean b r"
   ]
  },
  {
   "cell_type": "markdown",
   "metadata": {},
   "source": [
    "It is clear that in order to derive $e$ knowing $d$ we would have to know the value of $\\phi$ and that requires factorizing $n$. Now we choose our encryption key:"
   ]
  },
  {
   "cell_type": "code",
   "execution_count": 14,
   "metadata": {
    "collapsed": false
   },
   "outputs": [],
   "source": [
    "e = 397"
   ]
  },
  {
   "cell_type": "markdown",
   "metadata": {},
   "source": [
    "Then we derive $d$ using the Extended Euclidean procedure:"
   ]
  },
  {
   "cell_type": "code",
   "execution_count": 15,
   "metadata": {
    "collapsed": false,
    "scrolled": false
   },
   "outputs": [
    {
     "data": {
      "text/plain": [
       "(219973,-80)"
      ]
     },
     "metadata": {},
     "output_type": "display_data"
    }
   ],
   "source": [
    "(d, k) = euclidean e ϕ\n",
    "(d, k)"
   ]
  },
  {
   "cell_type": "markdown",
   "metadata": {},
   "source": [
    "Let us check that the results satisfy the Bézout's identity:"
   ]
  },
  {
   "cell_type": "code",
   "execution_count": 16,
   "metadata": {
    "collapsed": false
   },
   "outputs": [
    {
     "data": {
      "text/plain": [
       "True"
      ]
     },
     "metadata": {},
     "output_type": "display_data"
    }
   ],
   "source": [
    "d * e + k * ϕ == 1"
   ]
  },
  {
   "cell_type": "markdown",
   "metadata": {},
   "source": [
    "In order to apply encryption we must represent the data as a sequence of integers. For convenience we define some utility functions to convert strings to and from lists of integers"
   ]
  },
  {
   "cell_type": "code",
   "execution_count": 17,
   "metadata": {
    "collapsed": false
   },
   "outputs": [],
   "source": [
    "stringToNum = map (toInteger . ord)\n",
    "numToString = map (chr . fromInteger)"
   ]
  },
  {
   "cell_type": "markdown",
   "metadata": {},
   "source": [
    "Now we define the function used to encrypt and decrypt the data:"
   ]
  },
  {
   "cell_type": "code",
   "execution_count": 18,
   "metadata": {
    "collapsed": false
   },
   "outputs": [],
   "source": [
    "cipher key bigNumber = map (\\x -> x ^ key `mod` bigNumber)"
   ]
  },
  {
   "cell_type": "markdown",
   "metadata": {},
   "source": [
    "Define encryption and decryption functions using our keys and the chosen big number:"
   ]
  },
  {
   "cell_type": "code",
   "execution_count": 19,
   "metadata": {
    "collapsed": false
   },
   "outputs": [],
   "source": [
    "encrypt = (cipher e n) . stringToNum \n",
    "decrypt = numToString . (cipher d n)"
   ]
  },
  {
   "cell_type": "markdown",
   "metadata": {},
   "source": [
    "Pick a sample message that emphasizes the perils of symmetric key encryption:"
   ]
  },
  {
   "cell_type": "code",
   "execution_count": 20,
   "metadata": {
    "collapsed": false
   },
   "outputs": [],
   "source": [
    "plainTextMessage = concat [\"To every man is given a key \",\n",
    "                           \"that opens the gates of heaven. \",\n",
    "                           \"The same key opens the gates of hell.\"]"
   ]
  },
  {
   "cell_type": "markdown",
   "metadata": {},
   "source": [
    "Now let us encrypt the data and take a look at the result:"
   ]
  },
  {
   "cell_type": "code",
   "execution_count": 21,
   "metadata": {
    "collapsed": false
   },
   "outputs": [
    {
     "data": {
      "text/plain": [
       "[222898,28050,54983,455251,593639,455251,237303,211435,54983,676693,410828,536588,54983,960461,33266,54983,908424,960461,593639,455251,536588,54983,410828,54983,286991,455251,211435,54983,213817,847332,410828,213817,54983,28050,364292,455251,536588,33266,54983,213817,847332,455251,54983,908424,410828,213817,455251,33266,54983,28050,278798,54983,847332,455251,410828,593639,455251,536588,456381,54983,222898,847332,455251,54983,33266,410828,676693,455251,54983,286991,455251,211435,54983,28050,364292,455251,536588,33266,54983,213817,847332,455251,54983,908424,410828,213817,455251,33266,54983,28050,278798,54983,847332,455251,423737,423737,456381]"
      ]
     },
     "metadata": {},
     "output_type": "display_data"
    }
   ],
   "source": [
    "encryptedMessage = encrypt plainTextMessage\n",
    "encryptedMessage"
   ]
  },
  {
   "cell_type": "markdown",
   "metadata": {},
   "source": [
    "Finally we decrypt the original message:"
   ]
  },
  {
   "cell_type": "code",
   "execution_count": 23,
   "metadata": {
    "collapsed": false
   },
   "outputs": [
    {
     "data": {
      "text/plain": [
       "\"To every man is given a key that opens the gates of heaven. The same key opens the gates of hell.\""
      ]
     },
     "metadata": {},
     "output_type": "display_data"
    }
   ],
   "source": [
    "decrypt encryptedMessage"
   ]
  },
  {
   "cell_type": "code",
   "execution_count": null,
   "metadata": {
    "collapsed": true
   },
   "outputs": [],
   "source": []
  }
 ],
 "metadata": {
  "kernelspec": {
   "display_name": "Haskell",
   "language": "haskell",
   "name": "haskell"
  },
  "language_info": {
   "codemirror_mode": "ihaskell",
   "file_extension": ".hs",
   "name": "haskell",
   "version": "7.10.2"
  }
 },
 "nbformat": 4,
 "nbformat_minor": 0
}
