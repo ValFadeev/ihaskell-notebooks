{
 "cells": [
  {
   "cell_type": "markdown",
   "metadata": {
    "collapsed": true
   },
   "source": [
    "In this document I would like to go through some functional idioms in Python involving the use of iterators and highlight some parallels with the equivalent Haskell implementations."
   ]
  },
  {
   "cell_type": "code",
   "execution_count": 1,
   "metadata": {
    "collapsed": false
   },
   "outputs": [],
   "source": [
    "%matplotlib inline\n",
    "import matplotlib.pyplot as plt\n",
    "import numpy as np\n",
    "from random import random, randint, choice\n",
    "from itertools import cycle, ifilter, imap, islice, izip, starmap, tee\n",
    "from collections import defaultdict\n",
    "from operator import add, mul\n",
    "from pymonad.Maybe import *\n",
    "from pymonad.Reader import *"
   ]
  },
  {
   "cell_type": "markdown",
   "metadata": {},
   "source": [
    "**The ubiquitous `zip`**\n",
    "\n",
    "I must admit I severely underestimated the importance of `zip` when I first started learning functional style of programming. It comes up in a wide range of patterns, however one of the more elegant applications in Python is given in the following example:"
   ]
  },
  {
   "cell_type": "code",
   "execution_count": 2,
   "metadata": {
    "collapsed": false
   },
   "outputs": [
    {
     "data": {
      "text/plain": [
       "[(0, 1, 2, 3), (4, 5, 6, 7)]"
      ]
     },
     "execution_count": 2,
     "metadata": {},
     "output_type": "execute_result"
    }
   ],
   "source": [
    "a = range(0, 9)\n",
    "zip(*[iter(a)]*4)"
   ]
  },
  {
   "cell_type": "markdown",
   "metadata": {},
   "source": [
    "In fact, it is mentioned in the [documentation](https://docs.python.org/2/library/functions.html#zip) in the section on built-in functions. I guess, it is one of those bits that are easily skipped on first reading. The reason this example works the way it does, namely, partitioning the iterable into chunks of the given length, is that `zip` evaluates its arguments strictly left-to-right. Hence, all the copies of the iterator get advanced together and dereferenced one by one.\n",
    "\n",
    "Now we take a deeper dive straight away. Haskell introduces the [`zipWith`](https://www.haskell.org/hoogle/?hoogle=zipWith) function which takes an additional argument, a function which is applied to the corresponding elements of the zipped iterables. Thus the output is in general no longer a list of tuples of the original elements.\n",
    "A possible implementation in Python is given below. Note that we return a generator so that the result can be evaluated lazily as needed."
   ]
  },
  {
   "cell_type": "code",
   "execution_count": 3,
   "metadata": {
    "collapsed": false
   },
   "outputs": [],
   "source": [
    "def zip_with_(f, a, b):\n",
    "     return (f(*z) for z in izip(a, b))"
   ]
  },
  {
   "cell_type": "markdown",
   "metadata": {},
   "source": [
    "Another, more generic, implementation is possible using the [`starmap`](https://docs.python.org/2/library/itertools.html#itertools.starmap) function. "
   ]
  },
  {
   "cell_type": "code",
   "execution_count": 4,
   "metadata": {
    "collapsed": true
   },
   "outputs": [],
   "source": [
    "def zip_with(f, *a):\n",
    "    return starmap(f, izip(*a))"
   ]
  },
  {
   "cell_type": "markdown",
   "metadata": {},
   "source": [
    "Using `zip_with` we can express operations on sequences in a more functional way:"
   ]
  },
  {
   "cell_type": "code",
   "execution_count": 5,
   "metadata": {
    "collapsed": false
   },
   "outputs": [
    {
     "data": {
      "text/plain": [
       "[19, 19, 19, 19, 19, 19, 19, 19, 19]"
      ]
     },
     "execution_count": 5,
     "metadata": {},
     "output_type": "execute_result"
    }
   ],
   "source": [
    "b = range(10, 20)\n",
    "list(zip_with(add, a, reversed(b)))"
   ]
  },
  {
   "cell_type": "markdown",
   "metadata": {},
   "source": [
    "Before we proceed, let's introduce another bit of syntactical convenience:"
   ]
  },
  {
   "cell_type": "code",
   "execution_count": 6,
   "metadata": {
    "collapsed": true
   },
   "outputs": [],
   "source": [
    "@curry\n",
    "def take(n, a):\n",
    "    return islice(a, None, n)\n",
    "\n",
    "@curry\n",
    "def drop(n, a):\n",
    "    return islice(a, n, None)"
   ]
  },
  {
   "cell_type": "markdown",
   "metadata": {},
   "source": [
    "`@curry` will be explained later, for now just think of it as a fancy way of applying the idea behind [`functools.partial`](https://docs.python.org/2/library/functools.html#functools.partial) to forge partial application in Python.\n",
    "\n",
    "I discovered some of the less obvious applications of `zipWith` while working on the exercises from the canonical [CIS194](http://www.seas.upenn.edu/~cis194/hw/01-intro.pdf) course on Haskell. For example, in order to multiply every other element of a sequence by, say 2, we can generate a \"masking\" sequenc of 1s and 2s and zip it with the original sequence via multiplication:"
   ]
  },
  {
   "cell_type": "code",
   "execution_count": 7,
   "metadata": {
    "collapsed": true
   },
   "outputs": [],
   "source": [
    "def double_every_other(a):\n",
    "    return zip_with(mul, a, cycle([1,2]))"
   ]
  },
  {
   "cell_type": "markdown",
   "metadata": {},
   "source": [
    "Lazy evaluation allows us to work with infinite lists without much trouble:"
   ]
  },
  {
   "cell_type": "code",
   "execution_count": 8,
   "metadata": {
    "collapsed": false
   },
   "outputs": [
    {
     "data": {
      "text/plain": [
       "[1, 2, 3, 1, 2, 3, 1, 2, 3, 1, 2, 3, 1, 2, 3]"
      ]
     },
     "execution_count": 8,
     "metadata": {},
     "output_type": "execute_result"
    }
   ],
   "source": [
    "x = cycle([1, 2, 3])\n",
    "take15 = take(15)\n",
    "list(take15(x))"
   ]
  },
  {
   "cell_type": "code",
   "execution_count": 9,
   "metadata": {
    "collapsed": false
   },
   "outputs": [
    {
     "data": {
      "text/plain": [
       "[1, 4, 3, 2, 2, 6, 1, 4, 3, 2, 2, 6, 1, 4, 3]"
      ]
     },
     "execution_count": 9,
     "metadata": {},
     "output_type": "execute_result"
    }
   ],
   "source": [
    "y = double_every_other(x)\n",
    "list(take15(y))"
   ]
  },
  {
   "cell_type": "markdown",
   "metadata": {},
   "source": [
    "In another amazing example which I first came across in a [SO answer](http://stackoverflow.com/questions/16378773/rotate-a-list-in-haskell/16379034#16379034) `zip` is used to rotate a (potentially empty or infinite) sequence. In order to emphasize the Haskell influence, let us first write it without all of the convenience functions defined above:"
   ]
  },
  {
   "cell_type": "code",
   "execution_count": 10,
   "metadata": {
    "collapsed": false
   },
   "outputs": [],
   "source": [
    "def rotate(n, a):\n",
    "    return (x for x, _ in izip(islice(cycle(a), n , None), a))"
   ]
  },
  {
   "cell_type": "code",
   "execution_count": 11,
   "metadata": {
    "collapsed": false
   },
   "outputs": [
    {
     "data": {
      "text/plain": [
       "'_lazy_world_hello'"
      ]
     },
     "execution_count": 11,
     "metadata": {},
     "output_type": "execute_result"
    }
   ],
   "source": [
    "h = \"_hello_lazy_world\"\n",
    "r = rotate(6, h)\n",
    "''.join(list(r))"
   ]
  },
  {
   "cell_type": "markdown",
   "metadata": {},
   "source": [
    "Now we rewrite the same with more Haskell flavour:"
   ]
  },
  {
   "cell_type": "code",
   "execution_count": 12,
   "metadata": {
    "collapsed": true
   },
   "outputs": [],
   "source": [
    "def const(x, y):\n",
    "    return x\n",
    "\n",
    "def rotate1(n, a):\n",
    "    return zip_with(const, drop(n, cycle(a)), a)"
   ]
  },
  {
   "cell_type": "code",
   "execution_count": 13,
   "metadata": {
    "collapsed": false
   },
   "outputs": [
    {
     "data": {
      "text/plain": [
       "'_lazy_world_hello'"
      ]
     },
     "execution_count": 13,
     "metadata": {},
     "output_type": "execute_result"
    }
   ],
   "source": [
    "r1 = rotate1(6, h)\n",
    "''.join(list(r1))"
   ]
  },
  {
   "cell_type": "markdown",
   "metadata": {},
   "source": [
    "**Contextual iterators and monads**\n",
    "\n",
    "Using a custom iterator for a class we can implement some fluent syntax for situations when operations on iterators need to be chained."
   ]
  },
  {
   "cell_type": "code",
   "execution_count": 14,
   "metadata": {
    "collapsed": true
   },
   "outputs": [],
   "source": [
    "class Stream(object):\n",
    "    \n",
    "    def __init__(self, data):\n",
    "        self.data = iter(data)\n",
    "    \n",
    "    def __iter__(self):\n",
    "        class iterator(object):\n",
    "            def __init__(self, it):\n",
    "                self.it = it.data\n",
    "            def next(self):\n",
    "                return next(self.it)\n",
    "        return iterator(self)\n",
    "    \n",
    "    def filter(self, pred):\n",
    "        return Stream(ifilter(pred, self))\n",
    "    \n",
    "    def map(self, fn):\n",
    "        return Stream(imap(fn, self))"
   ]
  },
  {
   "cell_type": "code",
   "execution_count": 15,
   "metadata": {
    "collapsed": false
   },
   "outputs": [],
   "source": [
    "s = Stream(range(20)). \\\n",
    "    filter(lambda x: x % 7 == 0). \\\n",
    "    map(lambda x: x * x)"
   ]
  },
  {
   "cell_type": "code",
   "execution_count": 16,
   "metadata": {
    "collapsed": false
   },
   "outputs": [
    {
     "data": {
      "text/plain": [
       "[0, 49, 196]"
      ]
     },
     "execution_count": 16,
     "metadata": {},
     "output_type": "execute_result"
    }
   ],
   "source": [
    "list(s)"
   ]
  },
  {
   "cell_type": "markdown",
   "metadata": {},
   "source": [
    "We may notice that the resulting flow has certain traits of a composable contextual computation - something that monads were introduced to deal with. Indeed, we start by putting the original data in a \"streaming context\". Each public method then extracts the actual data, applies some transformation and wraps it back into the context before passing on. This document is not going to descend into yet another tutorial on monads. Instead we will use the [`PyMonad`](https://pypi.python.org/pypi/PyMonad/) in a somewhat crude manner to demonstrate how the same goal can be achieved in a more functional way.\n",
    "First we define a function that will wrap raw data in a context. If we were implementing our own monad, this would be the `unit`"
   ]
  },
  {
   "cell_type": "code",
   "execution_count": 17,
   "metadata": {
    "collapsed": true
   },
   "outputs": [],
   "source": [
    "def make_stream(data):\n",
    "    try:\n",
    "        return Just(iter(data))\n",
    "    except TypeError:\n",
    "        return Nothing"
   ]
  },
  {
   "cell_type": "markdown",
   "metadata": {},
   "source": [
    "Now express the operations performed by the methods as monadic functions."
   ]
  },
  {
   "cell_type": "code",
   "execution_count": 18,
   "metadata": {
    "collapsed": true
   },
   "outputs": [],
   "source": [
    "@curry\n",
    "def filter_stream(pred, stream):\n",
    "    return Just(ifilter(pred, stream))\n",
    "\n",
    "@curry\n",
    "def map_stream(fn, stream):\n",
    "    return Just(imap(fn, stream))"
   ]
  },
  {
   "cell_type": "markdown",
   "metadata": {},
   "source": [
    "At the end of the chain we will also need a way out of the context to continue working with the data. We do not intend to be 100% pure after all."
   ]
  },
  {
   "cell_type": "code",
   "execution_count": 19,
   "metadata": {
    "collapsed": true
   },
   "outputs": [],
   "source": [
    "def eval_stream(stream):\n",
    "    if isinstance(stream, Just):\n",
    "        return stream.value\n",
    "    else:\n",
    "        return ()"
   ]
  },
  {
   "cell_type": "markdown",
   "metadata": {},
   "source": [
    "Now we can also partially apply our function for better readability and potential reuse."
   ]
  },
  {
   "cell_type": "code",
   "execution_count": 20,
   "metadata": {
    "collapsed": true
   },
   "outputs": [],
   "source": [
    "my_filter = filter_stream(lambda x: x % 7 == 0)\n",
    "my_map = map_stream(lambda x: x * x)"
   ]
  },
  {
   "cell_type": "markdown",
   "metadata": {},
   "source": [
    "Finally, execute the flow."
   ]
  },
  {
   "cell_type": "code",
   "execution_count": 21,
   "metadata": {
    "collapsed": false
   },
   "outputs": [
    {
     "data": {
      "text/plain": [
       "[0, 49, 196]"
      ]
     },
     "execution_count": 21,
     "metadata": {},
     "output_type": "execute_result"
    }
   ],
   "source": [
    "st = make_stream(range(20))\n",
    "st1 = st >> my_filter >> my_map\n",
    "list(eval_stream(st1))"
   ]
  },
  {
   "cell_type": "markdown",
   "metadata": {},
   "source": [
    "We can take a different approach and work with ordinary functions instead:"
   ]
  },
  {
   "cell_type": "code",
   "execution_count": 22,
   "metadata": {
    "collapsed": true
   },
   "outputs": [],
   "source": [
    "@curry\n",
    "def filter_stream1(pred, stream):\n",
    "    return ifilter(pred, stream)\n",
    "\n",
    "@curry\n",
    "def map_stream1(fn, stream):\n",
    "    return imap(fn, stream)"
   ]
  },
  {
   "cell_type": "markdown",
   "metadata": {},
   "source": [
    "We can partially apply them, as before, and then use the overloaded `*` operator to denote curried function composition."
   ]
  },
  {
   "cell_type": "code",
   "execution_count": 23,
   "metadata": {
    "collapsed": true
   },
   "outputs": [],
   "source": [
    "my_filter1 = filter_stream1(lambda x: x % 7 == 0)\n",
    "my_map1 = map_stream1(lambda x: x * x)\n",
    "my_transform = my_filter1 * my_map1"
   ]
  },
  {
   "cell_type": "markdown",
   "metadata": {},
   "source": [
    "Finally the transformation is applied to the \"contextualized\" data using the applicative style instead of the bind operator."
   ]
  },
  {
   "cell_type": "code",
   "execution_count": 24,
   "metadata": {
    "collapsed": false
   },
   "outputs": [
    {
     "data": {
      "text/plain": [
       "[0, 49, 196]"
      ]
     },
     "execution_count": 24,
     "metadata": {},
     "output_type": "execute_result"
    }
   ],
   "source": [
    "st2 = make_stream(range(20))\n",
    "st3 = my_transform * st2\n",
    "list(eval_stream(st3))"
   ]
  },
  {
   "cell_type": "markdown",
   "metadata": {},
   "source": [
    "**Splitting and unpacking**\n",
    "\n",
    "We finish with a brief example showcasing the use of the [`tee`](https://docs.python.org/2/library/itertools.html#itertools.tee) function to create independent iterators and `*` (splat) operator to unpack sequences with `zip`.\n",
    "We shall consider the task of plotting a histogram for a somewhat unusual data model. Say we are given a sequence of results of some measurements (scores) for a number of observables identified by labels. Suppose also that there may be more than one occurence (count) of results with exactly the same score. We are going to partition scores into a given number of bins and aggregate counts within this bins, for each label separately.\n",
    "Before we proceed we shall define a convenience function inspired by the eponimous example from [Clojure](https://clojuredocs.org/clojure.core/repeatedly) (also [this](http://stackoverflow.com/questions/5737196/an-expression-for-an-infinite-generator/5739258#5739258) answer provided a nice idiom for an infinite generator)"
   ]
  },
  {
   "cell_type": "code",
   "execution_count": 25,
   "metadata": {
    "collapsed": false
   },
   "outputs": [],
   "source": [
    "def repeatedly(f, *args, **kwargs):\n",
    "    return (f(*args, **kwargs) for _ in iter(int, 1))"
   ]
  },
  {
   "cell_type": "markdown",
   "metadata": {},
   "source": [
    "Now let's produce some mock data. Although using effectful functions in comprehensions is generally frowned upon in Python, here it allows us to achieve a clean separation of the generating (`repeatedly`) and consuming (`take`) parts of the logic."
   ]
  },
  {
   "cell_type": "code",
   "execution_count": 26,
   "metadata": {
    "collapsed": false
   },
   "outputs": [
    {
     "data": {
      "text/plain": [
       "[('b', 0.53, 13),\n",
       " ('c', 0.24, 6),\n",
       " ('b', 0.75, 8),\n",
       " ('a', 0.52, 20),\n",
       " ('a', 0.38, 19),\n",
       " ('c', 0.0, 10),\n",
       " ('a', 0.45, 1),\n",
       " ('b', 0.63, 11),\n",
       " ('a', 0.75, 12),\n",
       " ('a', 0.02, 11)]"
      ]
     },
     "execution_count": 26,
     "metadata": {},
     "output_type": "execute_result"
    }
   ],
   "source": [
    "def generate_data():\n",
    "    return (choice(['a', 'b', 'c']), \n",
    "            float(\"{:.2f}\".format(random())), \n",
    "            randint(1, 20))\n",
    "\n",
    "data = take(100, repeatedly(generate_data))\n",
    "\n",
    "sample = take(10, repeatedly(generate_data))\n",
    "list(sample)"
   ]
  },
  {
   "cell_type": "markdown",
   "metadata": {},
   "source": [
    "Now we define a function formatting labels for the plot. This is a typical example of using `tee` to traverse a sequence in a pairwise manner."
   ]
  },
  {
   "cell_type": "code",
   "execution_count": 27,
   "metadata": {
    "collapsed": false
   },
   "outputs": [],
   "source": [
    "def bin_labels(bins, label_format=None):\n",
    "    a, b = tee(bins)\n",
    "    next(b)\n",
    "    label_format = label_format or '>= %.2f, < %.2f'\n",
    "    return [label_format % b for b in izip(a, b)]"
   ]
  },
  {
   "cell_type": "markdown",
   "metadata": {},
   "source": [
    "Here we aggregate data in the bins"
   ]
  },
  {
   "cell_type": "code",
   "execution_count": 28,
   "metadata": {
    "collapsed": true
   },
   "outputs": [],
   "source": [
    "def bin_data(x, y, bin_edges):\n",
    "    data_to_bins = izip(np.digitize(x, bin_edges), y)\n",
    "    bin_sums = defaultdict(int)\n",
    "    for index, count in data_to_bins:\n",
    "        bin_sums[index] += count\n",
    "    return [bin_sums.get(index, 0) for index in xrange(len(bin_edges))]"
   ]
  },
  {
   "cell_type": "markdown",
   "metadata": {},
   "source": [
    "Finally we put together a dictionary containing all the data for the plot"
   ]
  },
  {
   "cell_type": "code",
   "execution_count": 29,
   "metadata": {
    "collapsed": false
   },
   "outputs": [],
   "source": [
    "by_label = defaultdict(list)\n",
    "d1, d2 = tee(data)\n",
    "for label, score, count in d1:\n",
    "    by_label[label].append([score, count])\n",
    "\n",
    "num_bins = 20\n",
    "_, score, _ = izip(*d2)\n",
    "bins = np.linspace(min(score), max(score), num_bins)\n",
    "bin_lbl = bin_labels(bins)\n",
    "\n",
    "series = []\n",
    "\n",
    "for label, records in by_label.iteritems():\n",
    "    _, count = izip(*records)\n",
    "    series.append({'label': label, 'data': bin_data(score, count, bins)})\n",
    "    \n",
    "result = {'series': series,\n",
    "          'bins': bin_lbl}"
   ]
  },
  {
   "cell_type": "code",
   "execution_count": 31,
   "metadata": {
    "collapsed": false
   },
   "outputs": [
    {
     "data": {
      "image/png": "[encoded data removed]",
      "text/plain": [
       "<matplotlib.figure.Figure at 0x10653b090>"
      ]
     },
     "metadata": {},
     "output_type": "display_data"
    }
   ],
   "source": [
    "fig, ax = plt.subplots(figsize=(18,6))\n",
    "bar_width = 0.2\n",
    "colors = ['r', 'g', 'b']\n",
    "\n",
    "for k, item in enumerate(result['series']):\n",
    "    index = np.arange(len(item['data']))\n",
    "    plt.bar(index + k * bar_width, \n",
    "            item['data'],\n",
    "            color = colors[k],\n",
    "            width = bar_width,\n",
    "            label = item['label'])\n",
    "\n",
    "plt.xlabel('Scores')\n",
    "plt.ylabel('Count')\n",
    "plt.title('Count by scores')\n",
    "plt.xticks(index + bar_width, result['bins'], rotation=70)\n",
    "plt.legend()\n",
    "\n",
    "plt.show()\n",
    "    "
   ]
  },
  {
   "cell_type": "markdown",
   "metadata": {},
   "source": [
    "**Conclusion**\n",
    "It has been a pretty haphazard overview of some of my favourite iterator tricks in Python. Some of the functional style, heavily influenced by Haskell has been applied too. Although it is not wise to enforce functional style in Python just for the sake of it. However, hopefully, some of the examples helped to demonstrate how readability and logical separation of the code can be improved, sometimes by effectively adding some syntactic sugar (`zip_with`, `take`), sometimes invoking deeper ideas like applicatives and monads."
   ]
  }
 ],
 "metadata": {
  "kernelspec": {
   "display_name": "Python 2",
   "language": "python",
   "name": "python2"
  },
  "language_info": {
   "codemirror_mode": {
    "name": "ipython",
    "version": 2
   },
   "file_extension": ".py",
   "mimetype": "text/x-python",
   "name": "python",
   "nbconvert_exporter": "python",
   "pygments_lexer": "ipython2",
   "version": "2.7.10"
  }
 },
 "nbformat": 4,
 "nbformat_minor": 0
}
